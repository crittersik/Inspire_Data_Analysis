{
 "metadata": {
  "name": "",
  "signature": "sha256:d4ab2c5cb895d92ba601310913f97ec2821063825480cc6a39495e387be0ef87"
 },
 "nbformat": 3,
 "nbformat_minor": 0,
 "worksheets": [
  {
   "cells": [
    {
     "cell_type": "code",
     "collapsed": false,
     "input": [
      "from IPython.display import HTML\n",
      "\n",
      "HTML('''<script>\n",
      "code_show=true; \n",
      "function code_toggle() {\n",
      " if (code_show){\n",
      " $('div.input').hide();\n",
      " } else {\n",
      " $('div.input').show();\n",
      " }\n",
      " code_show = !code_show\n",
      "} \n",
      "$( document ).ready(code_toggle);\n",
      "</script>\n",
      "<form action=\"javascript:code_toggle()\"><input type=\"submit\" value=\"Click here to toggle on/off the raw code.\"></form>''')"
     ],
     "language": "python",
     "metadata": {},
     "outputs": [
      {
       "html": [
        "<script>\n",
        "code_show=true; \n",
        "function code_toggle() {\n",
        " if (code_show){\n",
        " $('div.input').hide();\n",
        " } else {\n",
        " $('div.input').show();\n",
        " }\n",
        " code_show = !code_show\n",
        "} \n",
        "$( document ).ready(code_toggle);\n",
        "</script>\n",
        "<form action=\"javascript:code_toggle()\"><input type=\"submit\" value=\"Click here to toggle on/off the raw code.\"></form>"
       ],
       "metadata": {},
       "output_type": "pyout",
       "prompt_number": 1,
       "text": [
        "<IPython.core.display.HTML at 0x39542e8>"
       ]
      }
     ],
     "prompt_number": 1
    },
    {
     "cell_type": "code",
     "collapsed": false,
     "input": [
      "import pandas as pd\n",
      "import numpy as np\n",
      "import matplotlib.pyplot as plt\n",
      "\n",
      "import matplotlib\n",
      "matplotlib.style.use('ggplot')\n",
      "\n",
      "import sexmachine.detector as gender\n",
      "from collections import Counter\n",
      "%matplotlib inline\n",
      "\n",
      "import read_Inspire_data"
     ],
     "language": "python",
     "metadata": {},
     "outputs": [],
     "prompt_number": 2
    },
    {
     "cell_type": "code",
     "collapsed": false,
     "input": [
      "DATA_PATH = \"C:/Users/Ola/Documents/Inspire_data_project/records-2015-02-03.json\" \n",
      "#DATA_PATH = \"C:/Users/Ola/Documents/Inspire_data_project/records-2015-05-20.json\" \n",
      "#DATA_PATH = \"C:/Users/Oluszka/Documents/inspire_data/records-2015-03-04.json\" \n",
      "df_clean = read_Inspire_data.load_inspire(DATA_PATH)"
     ],
     "language": "python",
     "metadata": {},
     "outputs": [],
     "prompt_number": 3
    },
    {
     "cell_type": "code",
     "collapsed": false,
     "input": [
      "start_year = 1910\n",
      "actual_year = 2015\n",
      "df_clean_NEW = df_clean[df_clean['year'] >= start_year]"
     ],
     "language": "python",
     "metadata": {},
     "outputs": [],
     "prompt_number": 4
    },
    {
     "cell_type": "markdown",
     "metadata": {},
     "source": [
      "As a zeroth step we have loaded the JSON formatted data into a pandas data frame. While doing this, we have already done some basic tidying of the data (extracted from raw date format the year, evaluated total author count, citation or keyword count). As a first step - let's take a first peak at the data we have. There are over 1 milion papers on Inspire! However we will only concentrate on papers that date 1910 or later. That is still quite a history! How many papers per year? "
     ]
    },
    {
     "cell_type": "code",
     "collapsed": false,
     "input": [
      "# PLOT total number of papers ever\n",
      "total_number_of_papers = len(df_clean_NEW['recid'])\n",
      "total_number_of_papers2 = len(df_clean_NEW[(df_clean_NEW['year']<1950)]['recid'])\n",
      "print \"Total number of papers after\", start_year, \"in data: \", total_number_of_papers\n",
      "#print \"Total number of papers after\", start_year, \"and before 1950 in data: \", total_number_of_papers2\n",
      "#print float(total_number_of_papers2)/total_number_of_papers"
     ],
     "language": "python",
     "metadata": {},
     "outputs": [
      {
       "output_type": "stream",
       "stream": "stdout",
       "text": [
        "Total number of papers after 1910 in data:  1079032\n"
       ]
      }
     ],
     "prompt_number": 5
    },
    {
     "cell_type": "code",
     "collapsed": false,
     "input": [
      "# PLOT total number of papers per year\n",
      "plot1 = matplotlib.pyplot.gcf()\n",
      "NObins = actual_year - start_year + 1\n",
      "plt.hist(df_clean_NEW.year, bins=NObins,color=['red'])\n",
      "plt.title('Papers per year')\n",
      "plt.xlabel('year')\n",
      "plt.ylabel('# papers')\n",
      "plot1.set_size_inches(13, 7)\n",
      "plt.show()"
     ],
     "language": "python",
     "metadata": {},
     "outputs": [
      {
       "metadata": {},
       "output_type": "display_data",
       "png": "[encoded data removed]",
       "text": [
        "<matplotlib.figure.Figure at 0x120913cf8>"
       ]
      }
     ],
     "prompt_number": 6
    },
    {
     "cell_type": "markdown",
     "metadata": {},
     "source": [
      "What is the average number of authors in an Inspire paper? If one includes simply all papers that appeared after 1910, we see a very significant growth in the value mean authors per paper value around 2010 (see the figure below). What is going on there? If you work in the field or maybe take a look at science news feeds from time to time, you might recall that this corresponds to the start of the LArge Hadron Collider in Geneva. I suspect the gigantic collaboration might have something to do with that increase of people per paper. Let's grep out all the papers that contain the word 'CMS' or 'ATLAS' from out data (the names of 2 most renown experiments at CERN).\n",
      "\n"
     ]
    },
    {
     "cell_type": "code",
     "collapsed": false,
     "input": [
      "# average number of author per paper per year\n",
      "plt.clf() \n",
      "plot2 = matplotlib.pyplot.gcf()\n",
      "#mean_auth_per_year = df_clean_NEW[df_clean_NEW['tot_auth_count']<100].groupby('year').tot_auth_count.mean()\n",
      "mean_auth_per_year_2 = df_clean_NEW.groupby('year').tot_auth_count.mean()\n",
      "mean_auth_per_year_noCERN = df_clean_NEW[(df_clean_NEW['title'].str.contains(\"ATLAS\")==False)  &  (df_clean_NEW['title'].str.contains(\"CMS\")==False)].groupby('year').tot_auth_count.mean()\n",
      "median_auth_per_year = df_clean_NEW.groupby('year').tot_auth_count.median()\n",
      "ax = mean_auth_per_year_2.plot(legend = True, title = \"Average # of authors / paper / year\",label='mean all')\n",
      "#ax = mean_auth_per_year.plot(legend = True, label='auth_count<100')\n",
      "ax = median_auth_per_year.plot(legend = True, label='median all')\n",
      "ax = mean_auth_per_year_noCERN.plot(legend = True, label='mean no CERN')\n",
      "plot2.set_size_inches(13, 7)\n",
      "plt.show()"
     ],
     "language": "python",
     "metadata": {},
     "outputs": []
    },
    {
     "cell_type": "markdown",
     "metadata": {},
     "source": [
      "Let's look at another simple statistics available - average number of citations per paper. \n",
      "\n",
      "A simple trend that we expect to find, is that very fresh papers should have a small number of citations. And that is indeed visible on the plot below, for papers after year 2000. What about very old papers? Do they on average have more citations? Look at the plot - what is going on before 1950? This is very crazy, the plot jumping up and down and the average citation count is rather very large, reaching even over 140 citations per paper.\n",
      "\n",
      "The reason for such crazy behaviour is simple - there are very few papers in high energy physics database that are older than 1950 (only around 1000 papers, compare to over 1mln total papers). Only the most significant work from this 'old times' was incorporated into the database. The papers are relatively few and they differ very significantly in the number of citations, therefore we see many peaks and much higher numbers than after 1950.\n",
      "\n",
      "However, the most popular papers ever published and cited by high energy physics community are definitely after 1960, see the MAX # of citations below. "
     ]
    },
    {
     "cell_type": "code",
     "collapsed": false,
     "input": [
      "# average number of citation per paper per year\n",
      "plt.clf()\n",
      "plot3 = matplotlib.pyplot.gcf()\n",
      "mean_citation_per_year = df_clean_NEW.groupby('year').cit_count.mean()\n",
      "median_citation_per_year = df_clean_NEW.groupby('year').cit_count.median()\n",
      "ax = mean_citation_per_year.plot(legend = True, title = \"Average # of citation / paper / year\",label='mean')\n",
      "ax = median_citation_per_year.plot(legend = True, label='median')\n",
      "plot3.set_size_inches(13, 7)\n",
      "plt.show()"
     ],
     "language": "python",
     "metadata": {},
     "outputs": []
    },
    {
     "cell_type": "code",
     "collapsed": false,
     "input": [
      "# max number of citation per paper per year\n",
      "plt.clf() \n",
      "plot4 = matplotlib.pyplot.gcf()\n",
      "max_citation_per_year = df_clean_NEW.groupby('year').cit_count.max()\n",
      "ax1 = max_citation_per_year.plot(title = \"MAX # of citations / paper / year\")\n",
      "plot4.set_size_inches(13, 7)\n",
      "plt.show()"
     ],
     "language": "python",
     "metadata": {},
     "outputs": []
    },
    {
     "cell_type": "markdown",
     "metadata": {},
     "source": [
      "All papers come together with a title and an abstract. As you can see below, the titles' length remain rather steady, however the abstracts after a local minimum in averahe length around 1980's, get lengthier every year. Again, the data before 1950 are unreliable due to a small sample (that in addition has many empty abstracts and titles). We have filtered out empty abstracts or titles."
     ]
    },
    {
     "cell_type": "code",
     "collapsed": false,
     "input": [
      "#title length per year\n",
      "plt.clf()\n",
      "plot5 = matplotlib.pyplot.gcf()\n",
      "mean_title_len_per_year = df_clean_NEW[(df_clean_NEW['title_len']>0)].groupby('year').title_len.mean()\n",
      "ax = mean_title_len_per_year.plot(legend = True, title = \"Average title length / paper / year\",label='title length')\n",
      "plot5.set_size_inches(13, 7)\n",
      "plt.show()"
     ],
     "language": "python",
     "metadata": {},
     "outputs": []
    },
    {
     "cell_type": "code",
     "collapsed": false,
     "input": [
      "#abstract length per year\n",
      "plt.clf()\n",
      "plot6 = matplotlib.pyplot.gcf()\n",
      "mean_abstract_len_per_year = df_clean_NEW[(df_clean_NEW['abstract_len']>0)].groupby('year').abstract_len.mean()\n",
      "ax = mean_abstract_len_per_year.plot(legend = True, title = \"Average abstract length / paper / year\", label='abstract')\n",
      "plot6.set_size_inches(13, 7)\n",
      "plt.show()"
     ],
     "language": "python",
     "metadata": {},
     "outputs": []
    },
    {
     "cell_type": "code",
     "collapsed": false,
     "input": [],
     "language": "python",
     "metadata": {},
     "outputs": []
    }
   ],
   "metadata": {}
  }
 ]
}