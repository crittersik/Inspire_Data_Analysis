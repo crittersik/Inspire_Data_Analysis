{
 "metadata": {
  "name": "",
  "signature": "sha256:4796ebc7ac526ecc9e3baf67ce5bef0a7be6fb49668fc9f5765078d6720034de"
 },
 "nbformat": 3,
 "nbformat_minor": 0,
 "worksheets": []
}