{
 "metadata": {
  "name": "",
  "signature": "sha256:4123bbc73311ec3a81c7649011deff82fe798a9400976d860cb1ac15693485b7"
 },
 "nbformat": 3,
 "nbformat_minor": 0,
 "worksheets": [
  {
   "cells": [
    {
     "cell_type": "code",
     "collapsed": false,
     "input": [
      "import pandas as pd\n",
      "import json\n",
      "from datetime import datetime\n",
      "from time import time\n",
      "import os.path\n",
      "\n",
      "import numpy as np\n",
      "import matplotlib.pyplot as plt\n",
      "\n",
      "import matplotlib\n",
      "matplotlib.style.use('ggplot')\n",
      "\n",
      "import sexmachine.detector as gender\n",
      "from collections import Counter\n",
      "%matplotlib inline\n",
      "\n",
      "from BeautifulSoup import UnicodeDammit\n",
      "import read_Inspire_data"
     ],
     "language": "python",
     "metadata": {},
     "outputs": [],
     "prompt_number": 1
    },
    {
     "cell_type": "code",
     "collapsed": false,
     "input": [
      "#DATA_PATH = \"C:/Users/Ola/Documents/Inspire_data_project/records-2015-02-03.json\" \n",
      "DATA_PATH = \"C:/Users/Oluszka/Documents/inspire_data/records-2015-03-04.json\" \n",
      "df_clean = read_Inspire_data.load_inspire(DATA_PATH)"
     ],
     "language": "python",
     "metadata": {},
     "outputs": [],
     "prompt_number": 3
    },
    {
     "cell_type": "markdown",
     "metadata": {},
     "source": [
      "This notebook goes together with a names_df.csv file (~900KB, see the repo) that contains a gender classification for the names that appear in inspire data. \n",
      "\n",
      "If you plan to use more up-to-date data, before you proceeed with the plots in this notebook, use the notebook Make_gender_dictionary.ipynb to generate a new dictionary with all names from the data file. However, this code is also written in a way it could be done on a run if the program meets an unknown name. "
     ]
    },
    {
     "cell_type": "code",
     "collapsed": false,
     "input": [
      "# Initialize Gender Detector \n",
      "gender_detector = gender.Detector(case_sensitive=False)\n",
      "\n",
      "#load the name-gender dictionary from .csv file\n",
      "names_file_path = \"names_df.csv\"\n",
      "if os.path.isfile(names_file_path):\n",
      "    names_df_from_csv = pd.read_csv(names_file_path, index_col=0)\n",
      "    name_memo = dict(zip(names_df_from_csv.Name,names_df_from_csv.Gender))\n",
      "else:\n",
      "    name_memo = {}\n",
      "\n",
      "def get_gender(name):\n",
      "    if name in name_memo:\n",
      "        return name_memo[name]\n",
      "    else:\n",
      "        gender = gender_detector.get_gender(name)\n",
      "        name_memo[name] = gender\n",
      "        return gender"
     ],
     "language": "python",
     "metadata": {},
     "outputs": [],
     "prompt_number": 5
    },
    {
     "cell_type": "code",
     "collapsed": false,
     "input": [
      "start_year = 1910\n",
      "actual_year = 2015\n",
      "df_clean_NEW = df_clean[df_clean['year'] >= start_year]\n",
      "\n",
      "NO_sample = 20000 #1080316 #numer of sample rows taken for analysis\n",
      "df_clean_AUX = df_clean_NEW.tail(NO_sample)"
     ],
     "language": "python",
     "metadata": {},
     "outputs": []
    },
    {
     "cell_type": "code",
     "collapsed": false,
     "input": [
      "start = time()\n",
      "\n",
      "df_clean_AUX['tot_auth_names_list'] =  \"\"\n",
      "df_clean_AUX['tot_female_auth_count'] =  0\n",
      "df_clean_AUX['tot_male_auth_count'] =  0\n",
      "df_clean_AUX['tot_unknown_auth_count'] =  0\n",
      "df_clean_AUX['tot_auth_sex_list'] =  \"\"\n",
      "\n",
      "for row in df_clean_AUX.iterrows():\n",
      "    row_num, actual_row = row\n",
      "    auth_list = actual_row['tot_auth_list']\n",
      "    list_of_names = []\n",
      "    list_of_sexes = []\n",
      "    for single_author in auth_list:\n",
      "        name = single_author.split(\", \")[-1].split(\" \")[0]\n",
      "        list_of_names.append(name)\n",
      "        sex = get_gender(name)\n",
      "        list_of_sexes.append(sex)\n",
      "    df_clean_AUX.loc[row_num,'tot_auth_names_list'] = \" \".join(list_of_names)\n",
      "    df_clean_AUX.loc[row_num,'tot_female_auth_count'] = list_of_sexes.count('female')+list_of_sexes.count('mostly_female')\n",
      "    df_clean_AUX.loc[row_num,'tot_male_auth_count'] = list_of_sexes.count('male')+list_of_sexes.count('mostly_male')\n",
      "    df_clean_AUX.loc[row_num,'tot_unknown_auth_count'] = list_of_sexes.count('andy')\n",
      "    df_clean_AUX.loc[row_num,'tot_auth_sex_list'] = \" \".join(list_of_sexes)\n",
      "\n",
      "end = time()\n",
      "print \"It took \", end - start, \"sec. \"   "
     ],
     "language": "python",
     "metadata": {},
     "outputs": []
    },
    {
     "cell_type": "code",
     "collapsed": false,
     "input": [
      "total_females = df_clean_AUX[(df_clean_AUX['year']>1950)].tot_female_auth_count.sum()\n",
      "total_males = df_clean_AUX[(df_clean_AUX['year']>1950)].tot_male_auth_count.sum()\n",
      "total_authors = df_clean_AUX[(df_clean_AUX['year']>1950)].tot_auth_count.sum()\n",
      "print \"Total # of inspire contributors: \", total_authors\n",
      "print \"Total # of inspire contributors classified as females: \", total_females\n",
      "print \"Total # of inspire contributors classified as males: \", total_males\n",
      "print \"Percent of female contributors in classified data: \", float(total_females)/(total_females+total_males)"
     ],
     "language": "python",
     "metadata": {},
     "outputs": []
    },
    {
     "cell_type": "markdown",
     "metadata": {},
     "source": [
      "Why there are so many unclassified contributions? The gender detector is not a perfect machine, not to add the fact that in some of the papers we are given just an authors initial. However, amongst the classified contributions there seem to be almost 20% female contributions."
     ]
    },
    {
     "cell_type": "code",
     "collapsed": false,
     "input": [
      "# plot average number of female vs male authors on papers with less than 100 auth.000000\t132.000000\t2742.000000\t582.000000\t14139.000000\t2015.000000\t1.000000\t7.000000\t8.000000\n",
      "\n",
      "# to account for an actual number of women per paper we should account for the unknown authors\n",
      "plt.clf() \n",
      "fig = matplotlib.pyplot.gcf()\n",
      "# &  ((df_clean_AUX['tot_female_auth_count']>0) | (df_clean_AUX['tot_male_auth_count']>0))\n",
      "mean_female_per_year = df_clean_AUX[(df_clean_AUX['year']>1950)].groupby('year').tot_female_auth_count.mean()\n",
      "mean_male_per_year = df_clean_AUX[(df_clean_AUX['year']>1950)].groupby('year').tot_male_auth_count.mean()\n",
      "mean_unknown_per_year = df_clean_AUX[(df_clean_AUX['year']>1950)].groupby('year').tot_unknown_auth_count.mean()\n",
      "mean_total_per_year = df_clean_AUX[(df_clean_AUX['year']>1950)].groupby('year').tot_auth_count.mean()\n",
      "ax = mean_female_per_year.plot(title = \"Females vs males / paper / year\", label='Mean female')\n",
      "ax = mean_male_per_year.plot(label='Mean male')\n",
      "ax = mean_unknown_per_year.plot(label='Unclassified authors')\n",
      "ax = mean_total_per_year.plot(label='All Authors')\n",
      "\n",
      "fig.set_size_inches(13, 7)\n",
      "\n",
      "legend = ax.legend(loc='upper right', shadow=False)\n",
      "plt.show()"
     ],
     "language": "python",
     "metadata": {},
     "outputs": [
      {
       "metadata": {},
       "output_type": "display_data",
       "png": "[encoded data removed]",
       "text": [
        "<matplotlib.figure.Figure at 0xd79b7ba8>"
       ]
      }
     ],
     "prompt_number": 16
    },
    {
     "cell_type": "markdown",
     "metadata": {},
     "source": [
      "How many papers are there for a single author? How many "
     ]
    },
    {
     "cell_type": "code",
     "collapsed": false,
     "input": [
      "mean_female_per_year = df_clean_AUX[(df_clean_AUX['year']>1950) & (df_clean_AUX['tot_auth_count']<50)].groupby('year').tot_female_auth_count.mean()"
     ],
     "language": "python",
     "metadata": {},
     "outputs": []
    },
    {
     "cell_type": "code",
     "collapsed": false,
     "input": [],
     "language": "python",
     "metadata": {},
     "outputs": []
    },
    {
     "cell_type": "code",
     "collapsed": false,
     "input": [],
     "language": "python",
     "metadata": {},
     "outputs": []
    },
    {
     "cell_type": "code",
     "collapsed": false,
     "input": [],
     "language": "python",
     "metadata": {},
     "outputs": []
    },
    {
     "cell_type": "code",
     "collapsed": false,
     "input": [
      "NO_sample_2= 10000 #numer of sample rows taken for analysis\n",
      "df_clean_AUX_2 = df_clean.tail(NO_sample_2)\n",
      "print len(df_clean_AUX_2)"
     ],
     "language": "python",
     "metadata": {},
     "outputs": [
      {
       "output_type": "stream",
       "stream": "stdout",
       "text": [
        "10000\n"
       ]
      }
     ],
     "prompt_number": 73
    },
    {
     "cell_type": "code",
     "collapsed": false,
     "input": [
      "start = time()\n",
      "# memoize all authors and their papers\n",
      "\n",
      "all_authors_by_year_and_papers_memo = {}\n",
      "all_authors_by_year_and_NO_of_papers_memo = {}\n",
      "all_authors_by_year_and_collaborators_AUX = {}\n",
      "for row in df_clean_AUX_2.iterrows():\n",
      "    row_num, actual_row = row\n",
      "    auth_list = actual_row['tot_auth_list']\n",
      "    auth_list = [author.lower() for author in auth_list] \n",
      "    for author in auth_list:\n",
      "        author_year = \"::\".join([author, str(actual_row['year'])])\n",
      "        #print author_year\n",
      "        #convert to lowercase to collect only truly unique names        \n",
      "        if not author in all_authors_by_year_and_papers_memo:\n",
      "            all_authors_by_year_and_papers_memo[author_year] = []\n",
      "            all_authors_by_year_and_NO_of_papers_memo[author_year] = 0\n",
      "            all_authors_by_year_and_collaborators_AUX[author_year] = []         \n",
      "        all_authors_by_year_and_papers_memo[author_year].append(str(actual_row['recid']))\n",
      "        all_authors_by_year_and_NO_of_papers_memo[author_year] += 1 \n",
      "        all_authors_by_year_and_collaborators_AUX[author_year].extend(auth_list)\n",
      "end = time()\n",
      "print end - start\n",
      "#create a data frame with authors and number of their papers in sample\n",
      "\n",
      "df_authors = pd.DataFrame(all_authors_by_year_and_NO_of_papers_memo.items(), columns=['Author::year', 'NO_of_papers'])"
     ],
     "language": "python",
     "metadata": {},
     "outputs": [
      {
       "output_type": "stream",
       "stream": "stdout",
       "text": [
        "6.72099995613\n"
       ]
      }
     ],
     "prompt_number": 74
    },
    {
     "cell_type": "code",
     "collapsed": false,
     "input": [
      "df_authors.shape"
     ],
     "language": "python",
     "metadata": {},
     "outputs": [
      {
       "metadata": {},
       "output_type": "pyout",
       "prompt_number": 85,
       "text": [
        "(57100, 9)"
       ]
      }
     ],
     "prompt_number": 85
    },
    {
     "cell_type": "code",
     "collapsed": false,
     "input": [
      "start = time()\n",
      "\n",
      "df_authors['Author'] = \" \"\n",
      "df_authors['year'] = \" \"\n",
      "df_authors['recid_list'] = \" \"\n",
      "df_authors['collaborators'] = \" \"\n",
      "df_authors['NO_of_collaborators'] = 0\n",
      "df_authors['sex'] = \" \"\n",
      "df_authors['first_name'] = \" \"\n",
      "for row in df_authors.iterrows():\n",
      "    row_num, actual_row = row\n",
      "    author_year = actual_row['Author::year']\n",
      "    author_name = author_year.split(\"::\")[0]\n",
      "    df_authors.loc[row_num, 'Author'] = author_name\n",
      "    if len(author_year)>1:\n",
      "        df_authors.loc[row_num, 'year'] = int(author_year.split(\"::\")[1])\n",
      "    \n",
      "    #print all_authors_by_year_and_papers_memo[author_year]\n",
      "    df_authors.loc[row_num, 'recid_list'] = \":::\".join(all_authors_by_year_and_papers_memo[author_year])\n",
      "    unique_authors = set(all_authors_by_year_and_collaborators_AUX[author_year])\n",
      "    unique_authors.discard(author_year)\n",
      "    df_authors.loc[row_num, 'collaborators'] = \":::\".join(unique_authors)\n",
      "    df_authors.loc[row_num, 'NO_of_collaborators'] = len(unique_authors)\n",
      "    df_authors.loc[row_num, 'first_name'] = author_name.split(\", \")[-1].split(\" \")[0]\n",
      "    df_authors.loc[row_num, 'sex'] = get_gender(author_name.split(\", \")[-1].split(\" \")[0])\n",
      "    \n",
      "end = time()\n",
      "print end - start"
     ],
     "language": "python",
     "metadata": {},
     "outputs": [
      {
       "output_type": "stream",
       "stream": "stdout",
       "text": [
        "1081.75999999\n"
       ]
      }
     ],
     "prompt_number": 89
    },
    {
     "cell_type": "code",
     "collapsed": false,
     "input": [
      "df_authors.to_csv(\"C:/Users/Ola/Documents/Inspire_data_project/authors_df.csv\",  encoding='utf-8')\n",
      "#df_authors_from_csv = pd.read_csv(\"authors_df.csv\", index_col=0)"
     ],
     "language": "python",
     "metadata": {},
     "outputs": [],
     "prompt_number": 92
    },
    {
     "cell_type": "code",
     "collapsed": false,
     "input": [
      "print df_authors.columns\n",
      "#df_authors.sort(['Author', 'year'], ascending=[1, 0])"
     ],
     "language": "python",
     "metadata": {},
     "outputs": [
      {
       "output_type": "stream",
       "stream": "stdout",
       "text": [
        "Index([u'Author::year', u'NO_of_papers', u'Author', u'year', u'recid_list', u'collaborators', u'NO_of_collaborators', u'sex', u'first_name'], dtype='object')\n"
       ]
      }
     ],
     "prompt_number": 93
    },
    {
     "cell_type": "code",
     "collapsed": false,
     "input": [
      "# average number of author per paper per year\n",
      "plt.clf() \n",
      "\n",
      "mean_collaborators_perauthor_per_year = df_authors[(df_authors['sex']==\"andy\") & (df_authors['year']>2000)].groupby('year').NO_of_collaborators.mean()\n",
      "ax = mean_collaborators_perauthor_per_year.plot(legend = True,label='andy')\n",
      "\n",
      "mean_collaborators_perfemale_per_year = df_authors[((df_authors['sex']==\"female\") | (df_authors['sex']==\"mostly female\")) & (df_authors['year']>2000)].groupby('year').NO_of_collaborators.mean()\n",
      "ax = mean_collaborators_perfemale_per_year.plot(legend = True,label='female')\n",
      "\n",
      "mean_collaborators_permale_per_year = df_authors[((df_authors['sex']==\"male\") | (df_authors['sex']==\"mostly male\")) & (df_authors['year']>2000)].groupby('year').NO_of_collaborators.mean()\n",
      "ax = mean_collaborators_permale_per_year.plot(legend = True,label='male')\n",
      "\n",
      "plt.show()"
     ],
     "language": "python",
     "metadata": {},
     "outputs": [
      {
       "metadata": {},
       "output_type": "display_data",
       "png": "[encoded data removed]",
       "text": [
        "<matplotlib.figure.Figure at 0x1cc9e7b00>"
       ]
      }
     ],
     "prompt_number": 94
    },
    {
     "cell_type": "code",
     "collapsed": false,
     "input": [
      "# average number of author per paper per year -> only authors with less than 100 collaborators\n",
      "plt.clf() \n",
      "\n",
      "mean_collaborators_perauthor_per_year = df_authors[(df_authors['sex']==\"andy\") & (df_authors['year']>2000) & (df_authors['NO_of_collaborators']<200) & (df_authors['NO_of_collaborators']>2) ].groupby('year').NO_of_collaborators.mean()\n",
      "ax = mean_collaborators_perauthor_per_year.plot(legend = True,label='andy')\n",
      "\n",
      "mean_collaborators_perfemale_per_year = df_authors[((df_authors['sex']==\"female\") | (df_authors['sex']==\"mostly female\")) & (df_authors['year']>2000) & (df_authors['NO_of_collaborators']<200) & (df_authors['NO_of_collaborators']>2) ].groupby('year').NO_of_collaborators.mean()\n",
      "ax = mean_collaborators_perfemale_per_year.plot(legend = True,label='female')\n",
      "\n",
      "mean_collaborators_permale_per_year = df_authors[((df_authors['sex']==\"male\") | (df_authors['sex']==\"mostly male\")) & (df_authors['year']>2000) & (df_authors['NO_of_collaborators']<200) & (df_authors['NO_of_collaborators']>2) ].groupby('year').NO_of_collaborators.mean()\n",
      "ax = mean_collaborators_permale_per_year.plot(legend = True,label='male')\n",
      "\n",
      "plt.show()"
     ],
     "language": "python",
     "metadata": {},
     "outputs": [
      {
       "metadata": {},
       "output_type": "display_data",
       "png": "[encoded data removed]",
       "text": [
        "<matplotlib.figure.Figure at 0x1cc9d5b38>"
       ]
      }
     ],
     "prompt_number": 95
    },
    {
     "cell_type": "code",
     "collapsed": false,
     "input": [
      "# NO of collaborators \n",
      "NObins = df_authors.NO_of_collaborators.max()\n",
      "plt.hist(df_authors.NO_of_collaborators, bins=NObins,color=['red'])\n",
      "plt.xscale('log')\n",
      "plt.yscale('log')\n",
      "plt.show()"
     ],
     "language": "python",
     "metadata": {},
     "outputs": [
      {
       "metadata": {},
       "output_type": "display_data",
       "png": "[encoded data removed]",
       "text": [
        "<matplotlib.figure.Figure at 0x1cccd7518>"
       ]
      }
     ],
     "prompt_number": 96
    },
    {
     "cell_type": "code",
     "collapsed": false,
     "input": [
      "plt.clf() \n",
      "NObins = len(df_clean[df_clean['year'] >= 1910].year.unique())\n",
      "plt.hist(df_clean[df_clean['year'] >= 1910].year, bins=NObins,color=['red'])\n",
      "plt.title('Paper count per year')\n",
      "plt.xlabel('year')\n",
      "plt.ylabel('# papers')\n",
      "plt.show()"
     ],
     "language": "python",
     "metadata": {},
     "outputs": [
      {
       "metadata": {},
       "output_type": "display_data",
       "png": "[encoded data removed]",
       "text": [
        "<matplotlib.figure.Figure at 0x1dd1f5588>"
       ]
      }
     ],
     "prompt_number": 138
    },
    {
     "cell_type": "code",
     "collapsed": false,
     "input": [],
     "language": "python",
     "metadata": {},
     "outputs": []
    },
    {
     "cell_type": "code",
     "collapsed": false,
     "input": [],
     "language": "python",
     "metadata": {},
     "outputs": []
    },
    {
     "cell_type": "markdown",
     "metadata": {},
     "source": [
      "Women on average have more collaborators than men. However, a simple explanation seems to be, that women are more likely to paricipate in projects with very large number of collaborators, that in case of Inspire database correspond to experimental projects. There are fewer women in theory, where you generally have a few co-authors, not a hundred co-authors of your paper. "
     ]
    },
    {
     "cell_type": "code",
     "collapsed": false,
     "input": [
      "#average number of male author collaborators\n",
      "print ' '\n",
      "print 'men sample size', df_authors[df_authors['sex']=='male']['NO_of_collaborators'].count()\n",
      "print 'men mean #collaborators', df_authors[df_authors['sex']=='male']['NO_of_collaborators'].mean()\n",
      "print 'men median #collaborators', df_authors[df_authors['sex']=='male']['NO_of_collaborators'].median()\n",
      "\n",
      "#average number of female author collaborators\n",
      "print ' '\n",
      "print 'female sample size', df_authors[df_authors['sex']=='female']['NO_of_collaborators'].count()\n",
      "print 'female mean #collaborators', df_authors[df_authors['sex']=='female']['NO_of_collaborators'].mean()\n",
      "print 'female median #collaborators', df_authors[df_authors['sex']=='female']['NO_of_collaborators'].median()\n",
      "#add mostly female and mostly male!!!!!!!!!!!!!!!!!!!!!!!!!!!!!!!!!!  WHY I HAD WIERD PROBLEMS WITH IT????\n",
      "\n",
      "print ' '\n",
      "print 'Only include people with no more than 200 collaborators:'\n",
      "#average number of male author collaborators\n",
      "print ' '\n",
      "print 'men sample size', df_authors[df_authors['sex']=='male'][df_authors['NO_of_collaborators']<200]['NO_of_collaborators'].count()\n",
      "print 'men mean #collaborators', df_authors[df_authors['sex']=='male'][df_authors['NO_of_collaborators']<200]['NO_of_collaborators'].mean()\n",
      "\n",
      "\n",
      "#average number of female author collaborators\n",
      "print ' '\n",
      "print 'female sample size', df_authors[df_authors['sex']=='female'][df_authors['NO_of_collaborators']<200]['NO_of_collaborators'].count()\n",
      "print 'female mean #collaborators', df_authors[df_authors['sex']=='female'][df_authors['NO_of_collaborators']<200]['NO_of_collaborators'].mean()\n"
     ],
     "language": "python",
     "metadata": {},
     "outputs": [
      {
       "output_type": "stream",
       "stream": "stdout",
       "text": [
        " \n",
        "men sample size 20436\n",
        "men mean #collaborators 985.107310628\n",
        "men median #collaborators "
       ]
      },
      {
       "output_type": "stream",
       "stream": "stdout",
       "text": [
        "113.0\n",
        " \n",
        "female sample size 4037\n",
        "female mean #collaborators 1245.08521179\n",
        "female median #collaborators 974.0\n",
        " \n",
        "Only include people with no more than 200 collaborators:\n",
        " \n",
        "men sample size "
       ]
      },
      {
       "output_type": "stream",
       "stream": "stdout",
       "text": [
        "10294\n",
        "men mean #collaborators 10.940353604\n",
        " \n",
        "female sample size 1592\n",
        "female mean #collaborators "
       ]
      },
      {
       "output_type": "stream",
       "stream": "stdout",
       "text": [
        "11.2129396985\n"
       ]
      }
     ],
     "prompt_number": 102
    },
    {
     "cell_type": "code",
     "collapsed": false,
     "input": [],
     "language": "python",
     "metadata": {},
     "outputs": [],
     "prompt_number": 100
    },
    {
     "cell_type": "code",
     "collapsed": false,
     "input": [
      "DO TOPIC MODELLING AND FOR EACH TOPIC find whether there are some topics prefered by women. "
     ],
     "language": "python",
     "metadata": {},
     "outputs": []
    },
    {
     "cell_type": "code",
     "collapsed": false,
     "input": [],
     "language": "python",
     "metadata": {},
     "outputs": []
    },
    {
     "cell_type": "code",
     "collapsed": false,
     "input": [
      "#I consider this simple output a hint, that there might be some trend in female vs male preferences\n",
      "#of the choice of the subarea of high energy physics. How can we learn that?\n",
      "\n",
      "print \"Excluded ATLAS and CMS \"\n",
      "total_females = df_clean_AUX[(df_clean_AUX['year']>1950) & (df_clean_AUX['title'].str.contains(\"ATLAS\")==False) ].tot_female_auth_count.sum()\n",
      "total_males = df_clean_AUX[(df_clean_AUX['year']>1950) & (df_clean_AUX['title'].str.contains(\"ATLAS\")==False)].tot_male_auth_count.sum()\n",
      "print \"Total # of inspire contributors classified as females: \", total_females\n",
      "print \"Total # of inspire contributors classified as males: \", total_males\n",
      "print \"Percent of female contributors in classified data: \", float(total_females)/(total_females+total_males)\n",
      "\n",
      "print ' '\n",
      "print \"Only if Maxwell is involved\"\n",
      "total_females = df_clean_AUX[(df_clean_AUX['year']>1950) & (df_clean_AUX['abstract'].str.contains(\"Maxwell\")==True) ].tot_female_auth_count.sum()\n",
      "total_males = df_clean_AUX[(df_clean_AUX['year']>1950) & (df_clean_AUX['abstract'].str.contains(\"Maxwell\")==True)].tot_male_auth_count.sum()\n",
      "print \"Total # of inspire contributors classified as females: \", total_females\n",
      "print \"Total # of inspire contributors classified as males: \", total_males\n",
      "print \"Percent of female contributors in classified data: \", float(total_females)/(total_females+total_males)"
     ],
     "language": "python",
     "metadata": {},
     "outputs": [
      {
       "output_type": "stream",
       "stream": "stdout",
       "text": [
        "Excluded ATLAS and CMS \n",
        "Total # of inspire contributors classified as females:  8483\n",
        "Total # of inspire contributors classified as males:  41786\n",
        "Percent of female contributors in classified data:  0.168752113629\n",
        " \n",
        "Only if Maxwell is involved\n",
        "Total # of inspire contributors classified as females: "
       ]
      },
      {
       "output_type": "stream",
       "stream": "stdout",
       "text": [
        " 14\n",
        "Total # of inspire contributors classified as males:  89\n",
        "Percent of female contributors in classified data:  0.135922330097\n"
       ]
      }
     ],
     "prompt_number": 23
    },
    {
     "cell_type": "code",
     "collapsed": false,
     "input": [],
     "language": "python",
     "metadata": {},
     "outputs": [],
     "prompt_number": 98
    },
    {
     "cell_type": "code",
     "collapsed": false,
     "input": [
      "gender.get_gender('ola')"
     ],
     "language": "python",
     "metadata": {},
     "outputs": [
      {
       "ename": "AttributeError",
       "evalue": "'module' object has no attribute 'get_gender'",
       "output_type": "pyerr",
       "traceback": [
        "\u001b[1;31m---------------------------------------------------------------------------\u001b[0m\n\u001b[1;31mAttributeError\u001b[0m                            Traceback (most recent call last)",
        "\u001b[1;32m<ipython-input-19-57ac6f9bd674>\u001b[0m in \u001b[0;36m<module>\u001b[1;34m()\u001b[0m\n\u001b[1;32m----> 1\u001b[1;33m \u001b[0mgender\u001b[0m\u001b[1;33m.\u001b[0m\u001b[0mget_gender\u001b[0m\u001b[1;33m(\u001b[0m\u001b[1;34m'ola'\u001b[0m\u001b[1;33m)\u001b[0m\u001b[1;33m\u001b[0m\u001b[0m\n\u001b[0m",
        "\u001b[1;31mAttributeError\u001b[0m: 'module' object has no attribute 'get_gender'"
       ]
      }
     ],
     "prompt_number": 19
    },
    {
     "cell_type": "code",
     "collapsed": false,
     "input": [
      "get_gender('olaf')"
     ],
     "language": "python",
     "metadata": {},
     "outputs": [
      {
       "metadata": {},
       "output_type": "pyout",
       "prompt_number": 12,
       "text": [
        "'male'"
       ]
      }
     ],
     "prompt_number": 12
    },
    {
     "cell_type": "code",
     "collapsed": false,
     "input": [
      "df_clean_AUX.columns"
     ],
     "language": "python",
     "metadata": {},
     "outputs": [
      {
       "metadata": {},
       "output_type": "pyout",
       "prompt_number": 17,
       "text": [
        "Index([u'abstract', u'authors', u'citations', u'co-authors', u'creation_date', u'free_keywords', u'recid', u'references', u'standardized_keywords', u'title', u'coauth_count', u'authors_count', u'tot_auth_count', u'tot_auth_list', u'cit_count', u'free_kwd_count', u'std_kwd_count', u'ref_count', u'title_len', u'abstract_len', u'year', u'tot_auth_names_list', u'tot_female_auth_count', u'tot_male_auth_count', u'tot_unknown_auth_count', u'tot_auth_sex_list'], dtype='object')"
       ]
      }
     ],
     "prompt_number": 17
    },
    {
     "cell_type": "code",
     "collapsed": false,
     "input": [],
     "language": "python",
     "metadata": {},
     "outputs": []
    }
   ],
   "metadata": {}
  }
 ]
}