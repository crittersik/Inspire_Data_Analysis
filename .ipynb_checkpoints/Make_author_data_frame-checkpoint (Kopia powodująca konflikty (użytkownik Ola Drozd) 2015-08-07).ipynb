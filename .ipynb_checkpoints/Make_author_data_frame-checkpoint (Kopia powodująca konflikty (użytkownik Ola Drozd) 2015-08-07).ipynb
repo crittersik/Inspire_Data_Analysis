{
 "metadata": {
  "name": "",
  "signature": "sha256:de9c43140d5b7c8c9ea94c9b43f5445f164e86bab89da082b4c6f49b0119539a"
 },
 "nbformat": 3,
 "nbformat_minor": 0,
 "worksheets": [
  {
   "cells": [
    {
     "cell_type": "code",
     "collapsed": false,
     "input": [
      "import pandas as pd\n",
      "import json\n",
      "from datetime import datetime\n",
      "from time import time\n",
      "import os.path\n",
      "\n",
      "import numpy as np\n",
      "import matplotlib.pyplot as plt\n",
      "\n",
      "import matplotlib\n",
      "matplotlib.style.use('ggplot')\n",
      "\n",
      "import sexmachine.detector as gender\n",
      "from collections import Counter\n",
      "%matplotlib inline\n",
      "\n",
      "import read_Inspire_data"
     ],
     "language": "python",
     "metadata": {},
     "outputs": [],
     "prompt_number": 2
    },
    {
     "cell_type": "code",
     "collapsed": false,
     "input": [
      "#DATA_PATH = \"C:/Users/Ola/Documents/Inspire_data_project/records-2015-02-03.json\" \n",
      "DATA_PATH = \"C:/Users/Oluszka/Documents/inspire_data/records-2015-03-04.json\" \n",
      "df_clean = read_Inspire_data.load_inspire(DATA_PATH)"
     ],
     "language": "python",
     "metadata": {},
     "outputs": [],
     "prompt_number": 3
    },
    {
     "cell_type": "code",
     "collapsed": false,
     "input": [
      "# Initialize Gender Detector \n",
      "gender_detector = gender.Detector(case_sensitive=False)\n",
      "\n",
      "#load the name-gender dictionary from .csv file\n",
      "names_file_path = \"names_df.csv\"\n",
      "if os.path.isfile(names_file_path):\n",
      "    names_df_from_csv = pd.read_csv(names_file_path, index_col=0)\n",
      "    name_memo = dict(zip(names_df_from_csv.Name,names_df_from_csv.Gender))\n",
      "else:\n",
      "    name_memo = {}\n",
      "\n",
      "def get_gender(name):\n",
      "    if name in name_memo:\n",
      "        return name_memo[name]\n",
      "    else:\n",
      "        gender = gender_detector.get_gender(name)\n",
      "        name_memo[name] = gender\n",
      "        return gender"
     ],
     "language": "python",
     "metadata": {},
     "outputs": [],
     "prompt_number": 5
    },
    {
     "cell_type": "code",
     "collapsed": false,
     "input": [
      "start_year = 1910\n",
      "actual_year = 2015\n",
      "df_clean_NEW = df_clean[df_clean['year'] >= start_yea\n",
      "\n",
      "NO_sample = 20000 #1080316 #numer of sample rows taken for analysis\n",
      "df_clean_AUX = df_clean_NEW.tail(NO_sample)"
     ],
     "language": "python",
     "metadata": {},
     "outputs": [],
     "prompt_number": 4
    },
    {
     "cell_type": "code",
     "collapsed": false,
     "input": [
      "start = time()\n",
      "# memoize all authors and their papers\n",
      "\n",
      "all_authors_by_year_and_papers_memo = {}\n",
      "all_authors_by_year_and_NO_of_papers_memo = {}\n",
      "all_authors_by_year_and_collaborators_AUX = {}\n",
      "for row in df_clean_AUX_2.iterrows():\n",
      "    row_num, actual_row = row\n",
      "    auth_list = actual_row['tot_auth_list']\n",
      "    auth_list = [author.lower() for author in auth_list] \n",
      "    for author in auth_list:\n",
      "        author_year = \"::\".join([author, str(actual_row['year'])])\n",
      "        #print author_year\n",
      "        #convert to lowercase to collect only truly unique names        \n",
      "        if not author in all_authors_by_year_and_papers_memo:\n",
      "            all_authors_by_year_and_papers_memo[author_year] = []\n",
      "            all_authors_by_year_and_NO_of_papers_memo[author_year] = 0\n",
      "            all_authors_by_year_and_collaborators_AUX[author_year] = []         \n",
      "        all_authors_by_year_and_papers_memo[author_year].append(str(actual_row['recid']))\n",
      "        all_authors_by_year_and_NO_of_papers_memo[author_year] += 1 \n",
      "        all_authors_by_year_and_collaborators_AUX[author_year].extend(auth_list)\n",
      "end = time()\n",
      "print end - start\n",
      "#create a data frame with authors and number of their papers in sample\n",
      "\n",
      "df_authors = pd.DataFrame(all_authors_by_year_and_NO_of_papers_memo.items(), columns=['Author::year', 'NO_of_papers'])"
     ],
     "language": "python",
     "metadata": {},
     "outputs": []
    },
    {
     "cell_type": "code",
     "collapsed": false,
     "input": [
      "start = time()\n",
      "\n",
      "df_authors['Author'] = \" \"\n",
      "df_authors['year'] = \" \"\n",
      "df_authors['recid_list'] = \" \"\n",
      "df_authors['collaborators'] = \" \"\n",
      "df_authors['NO_of_collaborators'] = 0\n",
      "df_authors['sex'] = \" \"\n",
      "df_authors['first_name'] = \" \"\n",
      "for row in df_authors.iterrows():\n",
      "    row_num, actual_row = row\n",
      "    author_year = actual_row['Author::year']\n",
      "    author_name = author_year.split(\"::\")[0]\n",
      "    df_authors.loc[row_num, 'Author'] = author_name\n",
      "    if len(author_year)>1:\n",
      "        df_authors.loc[row_num, 'year'] = int(author_year.split(\"::\")[1])\n",
      "    \n",
      "    #print all_authors_by_year_and_papers_memo[author_year]\n",
      "    df_authors.loc[row_num, 'recid_list'] = \":::\".join(all_authors_by_year_and_papers_memo[author_year])\n",
      "    unique_authors = set(all_authors_by_year_and_collaborators_AUX[author_year])\n",
      "    unique_authors.discard(author_year)\n",
      "    df_authors.loc[row_num, 'collaborators'] = \":::\".join(unique_authors)\n",
      "    df_authors.loc[row_num, 'NO_of_collaborators'] = len(unique_authors)\n",
      "    df_authors.loc[row_num, 'first_name'] = author_name.split(\", \")[-1].split(\" \")[0]\n",
      "    df_authors.loc[row_num, 'sex'] = get_gender(author_name.split(\", \")[-1].split(\" \")[0])\n",
      "    \n",
      "end = time()\n",
      "print end - start"
     ],
     "language": "python",
     "metadata": {},
     "outputs": []
    }
   ],
   "metadata": {}
  }
 ]
}