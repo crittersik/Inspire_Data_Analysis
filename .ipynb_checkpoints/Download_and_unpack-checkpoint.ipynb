{
 "metadata": {
  "name": "",
  "signature": "sha256:c7458ccdc10f3c9b855bc88b366795d7cc01d25ffa3441406b520364e990a61c"
 },
 "nbformat": 3,
 "nbformat_minor": 0,
 "worksheets": [
  {
   "cells": [
    {
     "cell_type": "code",
     "collapsed": false,
     "input": [
      "import gzip\n",
      "import glob\n",
      "import os.path\n",
      "import urllib\n",
      "\n",
      "URL = \"http://inspirehep.net/hep_records.json.gz\"\n",
      "PATH = \"C:/Users/Ola/Documents/Inspire_data_project/\" \n",
      "FILE_NAME = \"hep_records.json.gz\""
     ],
     "language": "python",
     "metadata": {},
     "outputs": [],
     "prompt_number": 2
    },
    {
     "cell_type": "code",
     "collapsed": false,
     "input": [
      "# dowload file\n",
      "if not os.path.isfile(PATH+FILE_NAME):\n",
      "    testfile = urllib.URLopener()\n",
      "    testfile.retrieve(URL, PATH+FILE_NAME)"
     ],
     "language": "python",
     "metadata": {},
     "outputs": [],
     "prompt_number": 4
    },
    {
     "cell_type": "code",
     "collapsed": false,
     "input": [
      "if not os.path.isfile(PATH+FILE_NAME[:-3]):\n",
      "    for src_name in glob.glob(os.path.join(source_dir, '*.gz')):\n",
      "        base = os.path.basename(src_name)\n",
      "        dest_name = os.path.join(dest_dir, base[:-3])\n",
      "        with gzip.open(src_name, 'rb') as infile:\n",
      "            with open(dest_name, 'w') as outfile:\n",
      "                for line in infile:\n",
      "                    outfile.write(line)"
     ],
     "language": "python",
     "metadata": {},
     "outputs": [],
     "prompt_number": 5
    },
    {
     "cell_type": "code",
     "collapsed": false,
     "input": [],
     "language": "python",
     "metadata": {},
     "outputs": [],
     "prompt_number": 6
    },
    {
     "cell_type": "code",
     "collapsed": false,
     "input": [],
     "language": "python",
     "metadata": {},
     "outputs": [],
     "prompt_number": 6
    },
    {
     "cell_type": "code",
     "collapsed": false,
     "input": [],
     "language": "python",
     "metadata": {},
     "outputs": []
    }
   ],
   "metadata": {}
  }
 ]
}