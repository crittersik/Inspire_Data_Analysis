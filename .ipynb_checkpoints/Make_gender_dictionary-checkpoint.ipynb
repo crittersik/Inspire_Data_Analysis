{
 "metadata": {
  "name": "",
  "signature": "sha256:02359b78225a01ad1af7c1dbc1a6146d543eac5767a995ff5993c49bd8413fca"
 },
 "nbformat": 3,
 "nbformat_minor": 0,
 "worksheets": [
  {
   "cells": [
    {
     "cell_type": "code",
     "collapsed": false,
     "input": [
      "import pandas as pd\n",
      "from datetime import datetime\n",
      "from time import time\n",
      "\n",
      "import numpy as np\n",
      "import sexmachine.detector as gender\n",
      "from collections import Counter\n",
      "\n",
      "import read_Inspire_data"
     ],
     "language": "python",
     "metadata": {},
     "outputs": [],
     "prompt_number": 1
    },
    {
     "cell_type": "code",
     "collapsed": false,
     "input": [
      "DATA_PATH = \"C:/Users/Ola/Documents/Inspire_data_project/records-2015-02-03.json\" \n",
      "#DATA_PATH = \"C:/Users/Oluszka/Documents/inspire_data/records-2015-03-04.json\" \n",
      "df_clean = read_Inspire_data.load_inspire(DATA_PATH)"
     ],
     "language": "python",
     "metadata": {},
     "outputs": []
    },
    {
     "cell_type": "code",
     "collapsed": false,
     "input": [
      "df_clean.shape"
     ],
     "language": "python",
     "metadata": {},
     "outputs": []
    },
    {
     "cell_type": "code",
     "collapsed": false,
     "input": [
      "# do gender statistics on a sample of total data\n",
      "gender_detector = gender.Detector(case_sensitive=False)\n",
      "name_memo = {}\n",
      "def get_gender(name):\n",
      "    if name in name_memo:\n",
      "        return name_memo[name]\n",
      "    else:\n",
      "        gender = gender_detector.get_gender(name)\n",
      "        name_memo[name] = gender\n",
      "        return gender"
     ],
     "language": "python",
     "metadata": {},
     "outputs": [],
     "prompt_number": 7
    },
    {
     "cell_type": "code",
     "collapsed": false,
     "input": [
      "NO_sample = 1080316 #numer of sample rows taken for analysis\n",
      "df_clean_AUX = df_clean.tail(NO_sample)"
     ],
     "language": "python",
     "metadata": {},
     "outputs": [],
     "prompt_number": 30
    },
    {
     "cell_type": "code",
     "collapsed": false,
     "input": [
      "start = time()\n",
      "\n",
      "for row in df_clean_AUX.iterrows():\n",
      "    row_num, actual_row = row\n",
      "    auth_list = actual_row['tot_auth_list']\n",
      "    for single_author in auth_list:\n",
      "        name = single_author.split(\", \")[-1].split(\" \")[0]\n",
      "        get_gender(name.lower())\n",
      "        \n",
      "end = time()\n",
      "print end - start"
     ],
     "language": "python",
     "metadata": {},
     "outputs": [
      {
       "output_type": "stream",
       "stream": "stdout",
       "text": [
        "86.2269999981\n"
       ]
      }
     ],
     "prompt_number": 31
    },
    {
     "cell_type": "code",
     "collapsed": false,
     "input": [
      "names_df = pd.DataFrame(name_memo.items())\n",
      "names_df.columns = ['Name', 'Gender']"
     ],
     "language": "python",
     "metadata": {},
     "outputs": [],
     "prompt_number": 32
    },
    {
     "cell_type": "code",
     "collapsed": false,
     "input": [
      "names_df.to_csv(\"names_df.csv\",  encoding='utf-8')"
     ],
     "language": "python",
     "metadata": {},
     "outputs": [],
     "prompt_number": 33
    },
    {
     "cell_type": "code",
     "collapsed": false,
     "input": [
      "print names_df_from_csv.shape"
     ],
     "language": "python",
     "metadata": {},
     "outputs": [
      {
       "output_type": "stream",
       "stream": "stdout",
       "text": [
        "(45185, 2)\n"
       ]
      }
     ],
     "prompt_number": 37
    },
    {
     "cell_type": "code",
     "collapsed": false,
     "input": [
      "names_df_from_csv = pd.read_csv(\"names_df.csv\", index_col=0)"
     ],
     "language": "python",
     "metadata": {},
     "outputs": [],
     "prompt_number": 2
    },
    {
     "cell_type": "code",
     "collapsed": false,
     "input": [
      "names_df_from_csv['Gender'].value_counts()"
     ],
     "language": "python",
     "metadata": {},
     "outputs": [
      {
       "metadata": {},
       "output_type": "pyout",
       "prompt_number": 4,
       "text": [
        "andy             34832\n",
        "male              6367\n",
        "female            3401\n",
        "mostly_male        368\n",
        "mostly_female      217\n",
        "dtype: int64"
       ]
      }
     ],
     "prompt_number": 4
    },
    {
     "cell_type": "code",
     "collapsed": false,
     "input": [],
     "language": "python",
     "metadata": {},
     "outputs": [],
     "prompt_number": 10
    },
    {
     "cell_type": "code",
     "collapsed": false,
     "input": [],
     "language": "python",
     "metadata": {},
     "outputs": []
    }
   ],
   "metadata": {}
  }
 ]
}