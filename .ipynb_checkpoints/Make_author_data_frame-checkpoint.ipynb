{
 "metadata": {
  "name": "",
  "signature": "sha256:349c814a0cc564b42a32b79106e0e9638c04de4900f51c32738011161841f4b8"
 },
 "nbformat": 3,
 "nbformat_minor": 0,
 "worksheets": [
  {
   "cells": [
    {
     "cell_type": "heading",
     "level": 1,
     "metadata": {},
     "source": [
      "Making dictionaries and saving them in JSON format for a future use."
     ]
    },
    {
     "cell_type": "code",
     "collapsed": false,
     "input": [
      "import json\n",
      "import os.path\n",
      "\n",
      "from datetime import datetime\n",
      "from time import time\n",
      "\n",
      "import pandas as pd\n",
      "import numpy as np\n",
      "import random\n",
      "import math\n",
      "import types\n",
      "import csv\n",
      "#import time\n",
      "\n",
      "import sexmachine.detector as gender\n",
      "#from collections import Counter\n",
      "#%matplotlib inline\n",
      "\n",
      "import read_Inspire_data\n",
      "from data_path import DATA_PATH, DATA_FILE_NAME"
     ],
     "language": "python",
     "metadata": {},
     "outputs": [],
     "prompt_number": 1
    },
    {
     "cell_type": "code",
     "collapsed": false,
     "input": [
      "#PATH = \"C:/Users/Ola/Documents/Inspire_data_project/\"\n",
      "#PATH = \"C:/Users/Oluszka/Documents/inspire_data/\"\n",
      "FILE_NAME = \"hep_records.json\"\n",
      "df_clean = read_Inspire_data.load_inspire(DATA_PATH+FILE_NAME)"
     ],
     "language": "python",
     "metadata": {},
     "outputs": [],
     "prompt_number": 2
    },
    {
     "cell_type": "code",
     "collapsed": false,
     "input": [],
     "language": "python",
     "metadata": {},
     "outputs": [],
     "prompt_number": 3
    },
    {
     "cell_type": "heading",
     "level": 2,
     "metadata": {},
     "source": [
      "1) Authors"
     ]
    },
    {
     "cell_type": "markdown",
     "metadata": {},
     "source": [
      "We will prepare a dictionary with all authors and their papers. Particularly, we will be interested in the statistics of how gender does influence for example, number of papers of the author, number of collaborators or citation count. To detect the gender of the author, we use sexmachine package."
     ]
    },
    {
     "cell_type": "code",
     "collapsed": false,
     "input": [
      "FILE_AUTH = \"authors.json\""
     ],
     "language": "python",
     "metadata": {},
     "outputs": [],
     "prompt_number": 59
    },
    {
     "cell_type": "code",
     "collapsed": false,
     "input": [
      "# Initialize Gender Detector \n",
      "gender_detector = gender.Detector(case_sensitive=False)\n",
      "\n",
      "#load the name-gender dictionary from .csv file\n",
      "names_file_path = PATH+\"names_df.csv\"\n",
      "if os.path.isfile(names_file_path):\n",
      "    names_df_from_csv = pd.read_csv(names_file_path, index_col=0)\n",
      "    name_memo = dict(zip(names_df_from_csv.Name,names_df_from_csv.Gender))\n",
      "else:\n",
      "    name_memo = {}\n",
      "\n",
      "def get_gender(name):\n",
      "    if name in name_memo:\n",
      "        return name_memo[name]\n",
      "    else:\n",
      "        gender = gender_detector.get_gender(name)\n",
      "        name_memo[name] = gender\n",
      "        return gender\n",
      "\n",
      "def get_name(author):\n",
      "    name = author.split(\", \")[-1].split(\" \")[0]"
     ],
     "language": "python",
     "metadata": {},
     "outputs": [],
     "prompt_number": 3
    },
    {
     "cell_type": "code",
     "collapsed": false,
     "input": [
      "start_year = 1980\n",
      "actual_year = 2010\n",
      "df_clean_NEW = df_clean[(df_clean['year'] >= start_year) & (df_clean['year'] <= actual_year)]\n",
      "\n",
      "NO_sample = 10 #1080316 #numer of sample rows taken for analysis\n",
      "\n",
      "#comment out to take random rows\n",
      "rows = random.sample(df_clean_NEW.index, NO_sample)\n",
      "df_clean_AUX = df_clean_NEW.ix[rows]\n",
      "\n",
      "# or comment out to take last rows as sample\n",
      "#df_clean_AUX = df_clean_NEW.tail(NO_sample)\n",
      "\n",
      "print df_clean.shape\n",
      "print df_clean_NEW.shape\n",
      "print df_clean_AUX.shape\n",
      "\n",
      "# usuwanie mem\n",
      "#df_clean = 0\n",
      "#df_clean_NEW = 0"
     ],
     "language": "python",
     "metadata": {},
     "outputs": [
      {
       "output_type": "stream",
       "stream": "stdout",
       "text": [
        "(1093809, 17)\n",
        "(781641, 17)\n",
        "(10, 17)\n"
       ]
      }
     ],
     "prompt_number": 3
    },
    {
     "cell_type": "code",
     "collapsed": false,
     "input": [
      "start = time()\n",
      "\n",
      "# memoize all authors and their papers in authors dictionary\n",
      "authors = {}\n",
      "\n",
      "if not os.path.isfile(PATH+FILE_AUTH):\n",
      "\n",
      "    for row in df_clean_AUX.iterrows():\n",
      "        row_num, actual_row = row\n",
      "        auth_list = actual_row['tot_auth_list']\n",
      "        paper = str(actual_row['recid'])\n",
      "\n",
      "        if type(auth_list) is list:\n",
      "            auth_list = [author.lower() for author in auth_list]  \n",
      "            #convert to lowercase to collect only unique names    \n",
      "\n",
      "            for author in auth_list:\n",
      "\n",
      "                #search if author_year has already been seen          \n",
      "                if not author in authors :\n",
      "                    authors[author] = {}\n",
      "                    name = str(get_name(author))\n",
      "                    authors[author]['gender'] = get_gender(name) if len(name)>0 else 'andy'\n",
      "                    authors[author]['papers'] = []\n",
      "                    #authors[author]['collaborators'] = []\n",
      "\n",
      "                authors[author]['papers'] = authors[author]['papers'] +  [int(paper)]  #+'::'+ paper\n",
      "                #authors[author]['collaborators'] = authors[author]['collaborators'] + auth_list\n",
      "\n",
      "    with open(PATH + \"authors.json\", \"wb\") as outfile:\n",
      "        for key, value in authors.items():\n",
      "            outfile.write(json.dumps([key, value]) + \"\\n\",) \n",
      "                \n",
      "\n",
      "end = time()\n",
      "print end - start"
     ],
     "language": "python",
     "metadata": {},
     "outputs": [
      {
       "output_type": "stream",
       "stream": "stdout",
       "text": [
        "0.00500011444092\n"
       ]
      }
     ],
     "prompt_number": 62
    },
    {
     "cell_type": "code",
     "collapsed": false,
     "input": [
      "len(authors.keys())"
     ],
     "language": "python",
     "metadata": {},
     "outputs": [
      {
       "metadata": {},
       "output_type": "pyout",
       "prompt_number": 63,
       "text": [
        "41"
       ]
      }
     ],
     "prompt_number": 63
    },
    {
     "cell_type": "code",
     "collapsed": false,
     "input": [
      "#authors_read = {}\n",
      "#with open(PATH + \"authors.json\") as infile:\n",
      "#    for line in infile:\n",
      "#        key, value = json.loads(line)\n",
      "#        authors_read[key] = value        "
     ],
     "language": "python",
     "metadata": {},
     "outputs": [],
     "prompt_number": 56
    },
    {
     "cell_type": "heading",
     "level": 2,
     "metadata": {},
     "source": [
      "2) RECID to date and citations"
     ]
    },
    {
     "cell_type": "code",
     "collapsed": false,
     "input": [
      "datetime.strptime(recid_dict[cpaper]['date'], '%Y-%m-%d')"
     ],
     "language": "python",
     "metadata": {},
     "outputs": [
      {
       "metadata": {},
       "output_type": "pyout",
       "prompt_number": 10,
       "text": [
        "datetime.datetime(1997, 12, 1, 0, 0)"
       ]
      }
     ],
     "prompt_number": 10
    },
    {
     "cell_type": "code",
     "collapsed": false,
     "input": [
      "recid_dict"
     ],
     "language": "python",
     "metadata": {},
     "outputs": [
      {
       "metadata": {},
       "output_type": "pyout",
       "prompt_number": 27,
       "text": [
        "{31170L: {'citations_5': 0, 'citations_total': 0L, 'date': '1991-12-20'},\n",
        " 175684L: {'citations_5': 0, 'citations_total': 0L, 'date': '1981-01-01'},\n",
        " 347855L: {'citations_5': 0, 'citations_total': 0L, 'date': '1992-01-01'},\n",
        " 368318L: {'citations_5': 0, 'citations_total': 0L, 'date': '1993-01-01'},\n",
        " 737384L: {'citations_5': 0, 'citations_total': 0L, 'date': '2006-01-01'},\n",
        " 761194L: {'citations_5': 0, 'citations_total': 151L, 'date': '2007-09-01'},\n",
        " 808371L: {'citations_5': 0, 'citations_total': 0L, 'date': '2008-01-01'},\n",
        " 817430L: {'citations_5': 0, 'citations_total': 3L, 'date': '2009-04-01'},\n",
        " 837430L: {'citations_5': 0, 'citations_total': 1L, 'date': '2009-11-01'},\n",
        " 872418L: {'citations_5': 0, 'citations_total': 16L, 'date': '2010-10-01'}}"
       ]
      }
     ],
     "prompt_number": 27
    },
    {
     "cell_type": "code",
     "collapsed": false,
     "input": [
      "Nmonths = 60\n",
      "Nyears = Nmonths/12\n",
      "\n",
      "FILE_DICT_recid = \"recid_dict.json\"\n",
      "\n",
      "if not os.path.isfile(PATH+FILE_DICT_recid):    \n",
      "    #create a dict with dates per recid\n",
      "#    recid_dict = {}\n",
      "#    for row in  df_clean.iterrows():\n",
      "#        row_num, actual_row = row\n",
      "#        recid_dict[actual_row['recid']] = {}\n",
      "#        recid_dict[actual_row['recid']]['date'] = actual_row['date'].strftime('%Y-%m-%d')\n",
      "    \n",
      "    #add total citation and 5-year citation count to the dictionary\n",
      "    for row in  df_clean.iterrows():\n",
      "        row_num, actual_row = row\n",
      "        paper_date = actual_row['date']\n",
      "        recid_dict[actual_row['recid']]['citations_5'] = 0\n",
      "        recid_dict[actual_row['recid']]['citations_total'] = actual_row['cit_count']\n",
      "        for cpaper in actual_row['citations']:\n",
      "            if cpaper in recid_dict:\n",
      "                citation_date = datetime.strptime(recid_dict[cpaper]['date'], '%Y-%m-%d')\n",
      "                if 0 < (citation_date - paper_date).days/30 < Nmonths:\n",
      "                    recid_dict[actual_row['recid']]['citations_5'] += 1   \n",
      "                    \n",
      "    with open(PATH + FILE_DICT_recid, \"wb\") as outfile:\n",
      "        for key, value in recid_dict.items():\n",
      "            outfile.write(json.dumps([key, value]) + \"\\n\",) "
     ],
     "language": "python",
     "metadata": {},
     "outputs": [],
     "prompt_number": 11
    },
    {
     "cell_type": "code",
     "collapsed": false,
     "input": [
      "recid_dict = {}\n",
      "for row in  df_clean.iterrows():\n",
      "    row_num, actual_row = row\n",
      "    recid_dict[actual_row['recid']] = {}\n",
      "    recid_dict[actual_row['recid']]['date'] = actual_row['date']"
     ],
     "language": "python",
     "metadata": {},
     "outputs": [],
     "prompt_number": 5
    },
    {
     "cell_type": "code",
     "collapsed": false,
     "input": [
      "for row in  df_clean.iterrows():\n",
      "    row_num, actual_row = row\n",
      "    paper_date = actual_row['date']\n",
      "    recid_dict[actual_row['recid']]['citations_5'] = 0\n",
      "    recid_dict[actual_row['recid']]['citations_total'] = actual_row['cit_count']\n",
      "    for cpaper in actual_row['citations']:\n",
      "        if cpaper in recid_dict:\n",
      "            citation_date = recid_dict[cpaper]['date']\n",
      "            if 0 < (citation_date - paper_date).days/30 < Nmonths:\n",
      "                recid_dict[actual_row['recid']]['citations_5'] += 1"
     ],
     "language": "python",
     "metadata": {},
     "outputs": [],
     "prompt_number": 9
    },
    {
     "cell_type": "code",
     "collapsed": false,
     "input": [
      "recid_dict[1016]['date'].strftime('%Y-%m-%d')"
     ],
     "language": "python",
     "metadata": {},
     "outputs": [
      {
       "metadata": {},
       "output_type": "pyout",
       "prompt_number": 17,
       "text": [
        "'1974-04-01'"
       ]
      }
     ],
     "prompt_number": 17
    },
    {
     "cell_type": "code",
     "collapsed": false,
     "input": [
      "FILE_DICT_recid = \"recid_dict.json\"\n",
      "with open(PATH + FILE_DICT_recid, \"wb\") as outfile:\n",
      "    for key, value in recid_dict.items():\n",
      "        outfile.write(json.dumps([key, value]) + \"\\n\",) "
     ],
     "language": "python",
     "metadata": {},
     "outputs": [],
     "prompt_number": 23
    },
    {
     "cell_type": "code",
     "collapsed": false,
     "input": [
      "#as a first stepcreate a dictionary with date as values for each key: recid\n",
      "\n",
      "import os.path\n",
      "import csv\n",
      "\n",
      "FILE_DICT_date = \"recid_date.csv\"\n",
      "if os.path.isfile(PATH+FILE_DICT_date):\n",
      "    recid_date = {}\n",
      "   \n",
      "    reader = csv.reader(open(PATH_RECID_DICT, 'rb'))\n",
      "    recid_date = dict(x for x in reader)\n",
      "\n",
      "else:\n",
      "    recid_date = {}\n",
      "    for row in  df_clean.iterrows():\n",
      "        row_num, actual_row = row\n",
      "        recid_date[actual_row['recid']] = actual_row['date']\n",
      "  \n",
      "    with open(PATH+FILE_DICT_date, \"wb\") as outfile:\n",
      "        writer = csv.writer(outfile)\n",
      "        for key, value in recid_date.items():\n",
      "            writer.writerow([key, value])\n",
      "            \n",
      "print len(recid_date.keys())"
     ],
     "language": "python",
     "metadata": {},
     "outputs": []
    },
    {
     "cell_type": "code",
     "collapsed": false,
     "input": [
      "import os.path\n",
      "import csv\n",
      "\n",
      "FILE_RECID_DICT = \"recid_citcount_5.csv\"\n",
      "if os.path.isfile(PATH+FILE_DICT):\n",
      "    recid_citation_5 = {}\n",
      "   \n",
      "    reader = csv.reader(open(PATH+FILE_RECID_DICT, 'rb'))\n",
      "    recid_citation_5 = dict(x for x in reader)\n",
      "\n",
      "else:\n",
      "    recid_citation_5 = {}\n",
      "    for row in  df_clean.iterrows():\n",
      "        row_num, actual_row = row\n",
      "        paper_date = actual_row['date']\n",
      "        recid_citation_5[actual_row['recid']] = 0\n",
      "        for cpaper in actual_row['citations']:\n",
      "            if cpaper in recid_date:\n",
      "                citation_date = recid_date[cpaper]\n",
      "                if 0 < (citation_date - paper_date).days/30 < Nmonths:\n",
      "                    recid_citation_5[actual_row['recid']] += 1\n",
      "  \n",
      "    with open(PATH+FILE_RECID_DICT, \"wb\") as outfile:\n",
      "        writer = csv.writer(outfile)\n",
      "        for key, value in recid_citation_5.items():\n",
      "            writer.writerow([key, value])\n",
      "            \n",
      "print len(recid_citation_5.keys())"
     ],
     "language": "python",
     "metadata": {},
     "outputs": []
    },
    {
     "cell_type": "code",
     "collapsed": false,
     "input": [
      "import os.path\n",
      "import csv\n",
      "\n",
      "FILE_DICT = \"recid_citcount_tot.csv\"\n",
      "if os.path.isfile(PATH+FILE_DICT):\n",
      "    recid_citation_tot = {}\n",
      "   \n",
      "    reader = csv.reader(open(PATH_RECID_DICT, 'rb'))\n",
      "    recid_citation_tot = dict(x for x in reader)\n",
      "\n",
      "else:\n",
      "    recid_citation_tot = {}\n",
      "    for row in  df_clean.iterrows():\n",
      "        row_num, actual_row = row\n",
      "        recid_citation_tot[actual_row['recid']] = actual_row['cit_count']\n",
      "  \n",
      "    with open(PATH + FILE_DICT, \"wb\") as outfile:\n",
      "        writer = csv.writer(outfile)\n",
      "        for key, value in recid_citation_tot.items():\n",
      "            writer.writerow([key, value])\n",
      "            \n",
      "print len(recid_citation_tot.keys())"
     ],
     "language": "python",
     "metadata": {},
     "outputs": []
    }
   ],
   "metadata": {}
  }
 ]
}