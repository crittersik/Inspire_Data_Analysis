{
 "metadata": {
  "name": "",
  "signature": "sha256:a8c7fbbdf85a35b823b5ab2b4feb17cfa46b331d6608644cc9857416bc5deabd"
 },
 "nbformat": 3,
 "nbformat_minor": 0,
 "worksheets": [
  {
   "cells": [
    {
     "cell_type": "code",
     "collapsed": false,
     "input": [
      "#import json\n",
      "import os.path\n",
      "\n",
      "from datetime import datetime\n",
      "from time import time\n",
      "\n",
      "import pandas as pd\n",
      "import numpy as np\n",
      "import random\n",
      "import math\n",
      "import types\n",
      "import csv\n",
      "import time\n",
      "\n",
      "import sexmachine.detector as gender\n",
      "#from collections import Counter\n",
      "#%matplotlib inline\n",
      "\n",
      "import read_Inspire_data"
     ],
     "language": "python",
     "metadata": {},
     "outputs": [],
     "prompt_number": 36
    },
    {
     "cell_type": "code",
     "collapsed": false,
     "input": [
      "#PATH = \"C:/Users/Ola/Documents/Inspire_data_project/\"\n",
      "PATH = \"C:/Users/Oluszka/Documents/inspire_data/\"\n",
      "FILE_NAME = \"hep_records.json\"\n",
      "df_clean = read_Inspire_data.load_inspire(PATH+FILE_NAME)"
     ],
     "language": "python",
     "metadata": {},
     "outputs": [],
     "prompt_number": 2
    },
    {
     "cell_type": "markdown",
     "metadata": {},
     "source": [
      "We will prepare a dictionary with all authors and their papers. Particularly, we will be interested in the statistics of how gender does influence for example, number of papers of the author, number of collaborators or citation count. To detect the gender of the author, we use sexmachine package."
     ]
    },
    {
     "cell_type": "code",
     "collapsed": false,
     "input": [
      "# Initialize Gender Detector \n",
      "gender_detector = gender.Detector(case_sensitive=False)\n",
      "\n",
      "#load the name-gender dictionary from .csv file\n",
      "names_file_path = PATH+\"names_df.csv\"\n",
      "if os.path.isfile(names_file_path):\n",
      "    names_df_from_csv = pd.read_csv(names_file_path, index_col=0)\n",
      "    name_memo = dict(zip(names_df_from_csv.Name,names_df_from_csv.Gender))\n",
      "else:\n",
      "    name_memo = {}\n",
      "\n",
      "def get_gender(name):\n",
      "    if name in name_memo:\n",
      "        return name_memo[name]\n",
      "    else:\n",
      "        gender = gender_detector.get_gender(name)\n",
      "        name_memo[name] = gender\n",
      "        return gender\n",
      "\n",
      "def get_name(author):\n",
      "    name = author.split(\", \")[-1].split(\" \")[0]"
     ],
     "language": "python",
     "metadata": {},
     "outputs": [],
     "prompt_number": 8
    },
    {
     "cell_type": "code",
     "collapsed": false,
     "input": [
      "start_year = 1980\n",
      "actual_year = 2010\n",
      "df_clean_NEW = df_clean[(df_clean['year'] >= start_year) & (df_clean['year'] <= actual_year)]\n",
      "\n",
      "NO_sample = 5000 #1080316 #numer of sample rows taken for analysis\n",
      "\n",
      "#comment out to take random rows\n",
      "rows = random.sample(df_clean_NEW.index, NO_sample)\n",
      "df_clean_AUX = df_clean_NEW.ix[rows]\n",
      "\n",
      "# or comment out to take last rows as sample\n",
      "#df_clean_AUX = df_clean_NEW.tail(NO_sample)\n",
      "\n",
      "print df_clean.shape\n",
      "print df_clean_NEW.shape\n",
      "print df_clean_AUX.shape\n",
      "\n",
      "# usuwanie mem\n",
      "#df_clean = 0\n",
      "#df_clean_NEW = 0"
     ],
     "language": "python",
     "metadata": {},
     "outputs": [
      {
       "output_type": "stream",
       "stream": "stdout",
       "text": [
        "(1083675, 21)\n",
        "(780205, 21)\n",
        "(5000, 21)\n"
       ]
      }
     ],
     "prompt_number": 6
    },
    {
     "cell_type": "code",
     "collapsed": false,
     "input": [
      "start = time()\n",
      "\n",
      "# memoize all authors and their papers in authors dictionary\n",
      "authors = {}\n",
      "\n",
      "for row in df_clean_AUX.iterrows():\n",
      "    row_num, actual_row = row\n",
      "    auth_list = actual_row['tot_auth_list']\n",
      "    paper = str(actual_row['recid'])\n",
      "    \n",
      "    if type(auth_list) is list:\n",
      "        auth_list = [author.lower() for author in auth_list]  \n",
      "        #convert to lowercase to collect only unique names    \n",
      "        \n",
      "        for author in auth_list:\n",
      "\n",
      "            #search if author_year has already been seen          \n",
      "            if not author in authors :\n",
      "                authors[author] = {}\n",
      "                name = str(get_name(author))\n",
      "                authors[author]['gender'] = get_gender(name) if len(name)>0 else 'andy'\n",
      "                authors[author]['papers'] = []\n",
      "                #authors[author]['collaborators'] = []\n",
      "                \n",
      "            authors[author]['papers'] = authors[author]['papers'] +  [int(paper)]  #+'::'+ paper\n",
      "            #authors[author]['collaborators'] = authors[author]['collaborators'] + auth_list\n",
      "\n",
      "\n",
      "end = time()\n",
      "print end - start"
     ],
     "language": "python",
     "metadata": {},
     "outputs": [
      {
       "output_type": "stream",
       "stream": "stdout",
       "text": [
        "0.797000169754\n"
       ]
      }
     ],
     "prompt_number": 21
    },
    {
     "cell_type": "code",
     "collapsed": false,
     "input": [
      "len(authors.keys())"
     ],
     "language": "python",
     "metadata": {},
     "outputs": [
      {
       "metadata": {},
       "output_type": "pyout",
       "prompt_number": 22,
       "text": [
        "28938"
       ]
      }
     ],
     "prompt_number": 22
    },
    {
     "cell_type": "code",
     "collapsed": false,
     "input": [
      "print authors.keys()[10]\n",
      "print authors[authors.keys()[10]]"
     ],
     "language": "python",
     "metadata": {},
     "outputs": [
      {
       "output_type": "stream",
       "stream": "stdout",
       "text": [
        "cartacci, a.\n",
        "{'gender': u'andy', 'papers': [230631, 637287, 619620]}\n"
       ]
      }
     ],
     "prompt_number": 23
    },
    {
     "cell_type": "code",
     "collapsed": false,
     "input": [
      "with open(PATH + \"authors.csv\", \"wb\") as outfile:\n",
      "    writer = csv.writer(outfile)\n",
      "    for key, value in authors.items():\n",
      "        writer.writerow([key, value['papers']])"
     ],
     "language": "python",
     "metadata": {},
     "outputs": [
      {
       "ename": "UnicodeEncodeError",
       "evalue": "'ascii' codec can't encode character u'\\xf6' in position 5: ordinal not in range(128)",
       "output_type": "pyerr",
       "traceback": [
        "\u001b[1;31m---------------------------------------------------------------------------\u001b[0m\n\u001b[1;31mUnicodeEncodeError\u001b[0m                        Traceback (most recent call last)",
        "\u001b[1;32m<ipython-input-27-b48d47f17cd1>\u001b[0m in \u001b[0;36m<module>\u001b[1;34m()\u001b[0m\n\u001b[0;32m      2\u001b[0m     \u001b[0mwriter\u001b[0m \u001b[1;33m=\u001b[0m \u001b[0mcsv\u001b[0m\u001b[1;33m.\u001b[0m\u001b[0mwriter\u001b[0m\u001b[1;33m(\u001b[0m\u001b[0moutfile\u001b[0m\u001b[1;33m)\u001b[0m\u001b[1;33m\u001b[0m\u001b[0m\n\u001b[0;32m      3\u001b[0m     \u001b[1;32mfor\u001b[0m \u001b[0mkey\u001b[0m\u001b[1;33m,\u001b[0m \u001b[0mvalue\u001b[0m \u001b[1;32min\u001b[0m \u001b[0mauthors\u001b[0m\u001b[1;33m.\u001b[0m\u001b[0mitems\u001b[0m\u001b[1;33m(\u001b[0m\u001b[1;33m)\u001b[0m\u001b[1;33m:\u001b[0m\u001b[1;33m\u001b[0m\u001b[0m\n\u001b[1;32m----> 4\u001b[1;33m         \u001b[0mwriter\u001b[0m\u001b[1;33m.\u001b[0m\u001b[0mwriterow\u001b[0m\u001b[1;33m(\u001b[0m\u001b[1;33m[\u001b[0m\u001b[0mkey\u001b[0m\u001b[1;33m,\u001b[0m \u001b[0mvalue\u001b[0m\u001b[1;33m[\u001b[0m\u001b[1;34m'papers'\u001b[0m\u001b[1;33m]\u001b[0m\u001b[1;33m]\u001b[0m\u001b[1;33m)\u001b[0m\u001b[1;33m\u001b[0m\u001b[0m\n\u001b[0m",
        "\u001b[1;31mUnicodeEncodeError\u001b[0m: 'ascii' codec can't encode character u'\\xf6' in position 5: ordinal not in range(128)"
       ]
      }
     ],
     "prompt_number": 27
    },
    {
     "cell_type": "code",
     "collapsed": false,
     "input": [],
     "language": "python",
     "metadata": {},
     "outputs": [],
     "prompt_number": 37
    },
    {
     "cell_type": "code",
     "collapsed": false,
     "input": [],
     "language": "python",
     "metadata": {},
     "outputs": []
    }
   ],
   "metadata": {}
  }
 ]
}