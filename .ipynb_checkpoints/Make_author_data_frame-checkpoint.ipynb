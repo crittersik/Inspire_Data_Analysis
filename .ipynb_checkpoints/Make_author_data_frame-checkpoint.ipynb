{
 "metadata": {
  "name": "",
  "signature": "sha256:58f1a89284f266e9dcfb503bee0ba98056e820846fcdc0d22a9940126c33037c"
 },
 "nbformat": 3,
 "nbformat_minor": 0,
 "worksheets": [
  {
   "cells": [
    {
     "cell_type": "code",
     "collapsed": false,
     "input": [
      "#import json\n",
      "#import os.path\n",
      "\n",
      "from datetime import datetime\n",
      "from time import time\n",
      "\n",
      "import pandas as pd\n",
      "import numpy as np\n",
      "import random\n",
      "import math\n",
      "import types\n",
      "\n",
      "import sexmachine.detector as gender\n",
      "#from collections import Counter\n",
      "#%matplotlib inline\n",
      "\n",
      "import read_Inspire_data"
     ],
     "language": "python",
     "metadata": {},
     "outputs": [],
     "prompt_number": 1
    },
    {
     "cell_type": "code",
     "collapsed": false,
     "input": [
      "PATH = \"C:/Users/Ola/Documents/Inspire_data_project/\"\n",
      "FILE_NAME = \"hep_records.json\"\n",
      "df_clean = read_Inspire_data.load_inspire(PATH+FILE_NAME)"
     ],
     "language": "python",
     "metadata": {},
     "outputs": [],
     "prompt_number": 2
    },
    {
     "cell_type": "code",
     "collapsed": false,
     "input": [
      "# Initialize Gender Detector \n",
      "#gender_detector = gender.Detector(case_sensitive=False)\n",
      "\n",
      "#load the name-gender dictionary from .csv file\n",
      "#names_file_path = \"names_df.csv\"\n",
      "#if os.path.isfile(names_file_path):\n",
      "#    names_df_from_csv = pd.read_csv(names_file_path, index_col=0)\n",
      "#    name_memo = dict(zip(names_df_from_csv.Name,names_df_from_csv.Gender))\n",
      "#else:\n",
      "#    name_memo = {}\n",
      "#\n",
      "#def get_gender(name):\n",
      "#    if name in name_memo:\n",
      "#        return name_memo[name]\n",
      "#    else:\n",
      "#        gender = gender_detector.get_gender(name)\n",
      "#        name_memo[name] = gender\n",
      "#        return gender"
     ],
     "language": "python",
     "metadata": {},
     "outputs": [],
     "prompt_number": 3
    },
    {
     "cell_type": "code",
     "collapsed": false,
     "input": [
      "start_year = 1980\n",
      "actual_year = 2010\n",
      "df_clean_NEW = df_clean[(df_clean['year'] >= start_year) & (df_clean['year'] <= actual_year)]\n",
      "\n",
      "NO_sample = 500000 #1080316 #numer of sample rows taken for analysis\n",
      "\n",
      "#comment out to take random rows\n",
      "rows = random.sample(df_clean_NEW.index, NO_sample)\n",
      "df_clean_AUX = df_clean_NEW.ix[rows]\n",
      "\n",
      "# or comment out to take last rows as sample\n",
      "#df_clean_AUX = df_clean_NEW.tail(NO_sample)\n",
      "\n",
      "print df_clean.shape\n",
      "print df_clean_NEW.shape\n",
      "print df_clean_AUX.shape\n",
      "\n",
      "# usuwanie mem\n",
      "#df_clean = 0\n",
      "#df_clean_NEW = 0"
     ],
     "language": "python",
     "metadata": {},
     "outputs": [
      {
       "output_type": "stream",
       "stream": "stdout",
       "text": [
        "(1095372, 21)\n",
        "(781637, 21)\n",
        "(500000, 21)\n"
       ]
      }
     ],
     "prompt_number": 6
    },
    {
     "cell_type": "code",
     "collapsed": false,
     "input": [
      "start = time()\n",
      "\n",
      "# memoize all authors and their papers in authors dictionary\n",
      "authors = {}\n",
      "\n",
      "for row in df_clean.iterrows():\n",
      "    row_num, actual_row = row\n",
      "    auth_list = actual_row['tot_auth_list']\n",
      "    paper = str(actual_row['recid'])\n",
      "    \n",
      "    if type(auth_list) is list:\n",
      "        auth_list = [author.lower() for author in auth_list]  \n",
      "        #convert to lowercase to collect only unique names    \n",
      "        \n",
      "        for author in auth_list:\n",
      "\n",
      "            #search if author_year has already been seen          \n",
      "            if not author in authors :\n",
      "                authors[author] = {}\n",
      "                authors[author]['papers'] = []\n",
      "                #authors[author]['collaborators'] = []\n",
      "                \n",
      "            authors[author]['papers'] = authors[author]['papers'] +  [int(paper)]  #+'::'+ paper\n",
      "            #authors[author]['collaborators'] = authors[author]['collaborators'] + auth_list\n",
      "\n",
      "\n",
      "end = time()\n",
      "print end - start"
     ],
     "language": "python",
     "metadata": {},
     "outputs": [
      {
       "output_type": "stream",
       "stream": "stdout",
       "text": [
        "180.654000044\n"
       ]
      }
     ],
     "prompt_number": 10
    },
    {
     "cell_type": "code",
     "collapsed": false,
     "input": [
      "len(authors.keys())"
     ],
     "language": "python",
     "metadata": {},
     "outputs": [
      {
       "metadata": {},
       "output_type": "pyout",
       "prompt_number": 8,
       "text": [
        "311148"
       ]
      }
     ],
     "prompt_number": 8
    },
    {
     "cell_type": "code",
     "collapsed": false,
     "input": [
      "print authors.keys()[10]\n",
      "#print len(authors['wagner, s.r.']['collaborators'])\n",
      "#print len(set(authors['wagner, s.r.']['collaborators']))\n",
      "print len(authors['wagner, s.r.']['papers'])\n",
      "print authors['wagner, s.r.']['papers']"
     ],
     "language": "python",
     "metadata": {},
     "outputs": [
      {
       "output_type": "stream",
       "stream": "stdout",
       "text": [
        "cartacci, a.\n",
        "519\n",
        "[758167, 676335, 686460, 795783, 587689, 645507, 202784, 656587, 787438, 527449, 656762, 878120, 819577, 477372, 722708, 863104, 686463, 790104, 722702, 746136, 791840, 853759, 644452, 611037, 295286, 439997, 687784, 532397, 656197, 722212, 656585, 562493, 695538, 681319, 716902, 713270, 625449, 756322, 687191, 591238, 654913, 677326, 722817, 719789, 783326, 645392, 839959, 826883, 562495, 766899, 845914, 202546, 591516, 868017, 686798, 722427, 722713, 584710, 656422, 687193, 559840, 559767, 170618, 667014, 757914, 656884, 656475, 754030, 755548, 684952, 879997, 748498, 688753, 557007, 767965, 282670, 722522, 232554, 751589, 473758, 722210, 656685, 757105, 445647, 789278, 583664, 532337, 615807, 804370, 445648, 450154, 748487, 429039, 636220, 827787, 532340, 327215, 422652, 532342, 504117, 792056, 830975, 276808, 591513, 532339, 650308, 616044, 676002, 474070, 767506, 507923, 722434, 656683, 295203, 680989, 722429, 446881, 729388, 614513, 592716, 560725, 283630, 722701, 714147, 633435, 502361, 722430, 591314, 582485, 560551, 656584, 791879, 656689, 622155, 817070, 283627, 745396, 676246, 667960, 822874, 496237, 447268, 591318, 500457, 657364, 656594, 307631, 722422, 792738, 700308, 722419, 660051, 717198, 604095, 757750, 722818, 615259, 624695, 728299, 846499, 650978, 615808, 591225, 279364, 504116, 233536, 722307, 623650, 722714, 686795, 236983, 693345, 722627, 722707, 397378, 569013, 656094, 645511, 860780, 469102, 836590, 771230, 746134, 679254, 784509, 484833, 756282, 750635, 710344, 318005, 686464, 831874, 689334, 451935, 871959, 587786, 563205, 587253, 814893, 246184, 722124, 283626, 726478, 615636, 652473, 780142, 564974, 789292, 686572, 810113, 469925, 532398, 746245, 582184, 246215, 722819, 656875, 623462, 687523, 748703, 294545, 656681, 474245, 497051, 560437, 591311, 507359, 722705, 709463, 687620, 768870, 686797, 656097, 715623, 591233, 632736, 646901, 864107, 656682, 810666, 635919, 643227, 813402, 644451, 722709, 623651, 789011, 825388, 220907, 817919, 507820, 560435, 757261, 667864, 591397, 647705, 221005, 676879, 792336, 503554, 656093, 792059, 756323, 591322, 781294, 250899, 627590, 615079, 855306, 633195, 785439, 849068, 727172, 793077, 796887, 791577, 207430, 825368, 675373, 346069, 1091435, 713679, 735404, 754150, 657103, 504583, 794094, 713179, 686118, 771234, 715831, 315486, 675003, 677871, 782897, 473944, 656684, 419256, 642263, 758133, 656763, 474247, 681883, 821188, 207431, 686997, 656874, 749390, 759219, 473718, 713981, 656418, 508478, 758472, 765060, 659024, 625269, 227325, 690363, 722621, 475040, 872494, 594586, 667017, 758430, 588940, 656881, 446298, 750468, 792597, 719581, 688756, 724053, 760518, 663432, 757208, 474241, 791529, 708292, 815035, 373403, 776809, 792380, 711845, 656419, 701361, 583754, 854415, 686578, 581608, 496238, 719388, 630515, 686462, 853279, 616444, 656472, 686117, 713862, 748372, 713983, 746745, 856113, 829151, 623466, 294509, 448507, 332700, 860478, 687873, 656582, 781659, 222566, 656970, 630101, 716411, 756091, 683498, 615490, 766290, 792887, 793068, 213239, 686355, 686461, 791797, 782612, 584788, 680847, 792842, 626518, 731867, 821653, 603989, 722304, 625629, 396855, 642911, 855083, 712993, 625442, 616919, 277772, 504736, 866025, 722699, 859147, 746379, 477681, 745399, 697070, 591125, 593379, 813070, 722305, 822985, 500782, 745736, 714447, 689142, 713779, 756234, 729694, 503676, 673759, 722820, 562494, 503754, 683506, 591323, 533716, 719111, 655496, 473591, 750462, 625270, 474071, 620070, 722700, 504120, 590701, 791882, 722697, 829158, 625094, 725377, 811705, 746742, 814858, 538839, 740383, 591313, 503909, 617453, 569012, 445191, 474244, 791881, 211071, 533257, 743984, 784992, 498726, 752557, 722428, 827985, 729907, 623995, 811949, 449679, 802363, 747155, 449704, 825406, 646446, 782356, 633880, 656277, 722526, 713342, 246460, 793037, 373660, 676691, 591321, 560682, 722528, 656872, 689143, 482462, 503910, 722215, 615560, 849155, 235696, 758594, 283628, 850804, 627838, 651418, 747154, 395613, 790626, 591228, 716145, 758211, 656279, 722711, 719949, 532401, 559625, 877816, 722302, 759192, 199849, 616112, 722521, 591236, 726255]\n"
       ]
      }
     ],
     "prompt_number": 9
    },
    {
     "cell_type": "code",
     "collapsed": false,
     "input": [],
     "language": "python",
     "metadata": {},
     "outputs": []
    },
    {
     "cell_type": "code",
     "collapsed": false,
     "input": [],
     "language": "python",
     "metadata": {},
     "outputs": []
    },
    {
     "cell_type": "code",
     "collapsed": false,
     "input": [],
     "language": "python",
     "metadata": {},
     "outputs": []
    }
   ],
   "metadata": {}
  }
 ]
}